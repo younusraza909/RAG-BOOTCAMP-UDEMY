{
 "cells": [
  {
   "cell_type": "code",
   "execution_count": 55,
   "id": "74206e02",
   "metadata": {},
   "outputs": [],
   "source": [
    "import os\n",
    "from dotenv import load_dotenv\n",
    "from langchain_community.document_loaders import DirectoryLoader\n",
    "from langchain_community.document_loaders import TextLoader\n",
    "from langchain_text_splitters import RecursiveCharacterTextSplitter\n",
    "from langchain_chroma import Chroma\n",
    "from langchain_huggingface import HuggingFaceEmbeddings\n",
    "from langchain.chains import create_retrieval_chain\n",
    "from langchain.chains.combine_documents import create_stuff_documents_chain\n",
    "from langchain_groq import ChatGroq\n",
    "from langchain_core.prompts import ChatPromptTemplate\n"
   ]
  },
  {
   "cell_type": "code",
   "execution_count": null,
   "id": "6564dd37",
   "metadata": {},
   "outputs": [],
   "source": [
    "load_dotenv()\n",
    "groq_api_key=os.getenv(\"GROQ_API_KEY\")\n",
    "\n",
    "os.environ[\"GROQ_API_KEY\"]=groq_api_key"
   ]
  },
  {
   "cell_type": "code",
   "execution_count": null,
   "id": "37046701",
   "metadata": {},
   "outputs": [
    {
     "name": "stderr",
     "output_type": "stream",
     "text": [
      "100%|██████████| 4/4 [00:00<00:00, 3127.74it/s]"
     ]
    },
    {
     "name": "stdout",
     "output_type": "stream",
     "text": [
      "page_content='Climate Change\n",
      "Climate change refers to long-term shifts in temperatures and weather patterns, largely driven by human activities such as burning fossil fuels. These activities increase greenhouse gas concentrations in the atmosphere, trapping heat and altering global climates. Consequences include rising sea levels, extreme weather events, and biodiversity loss.\n",
      "\n",
      "Space Exploration\n",
      "Humanity’s interest in space has evolved from simple stargazing to landing rovers on Mars. Organizations like NASA and private companies like SpaceX are pushing boundaries by exploring planets, planning moon bases, and even contemplating missions to Jupiter's moons. Space exploration drives technological innovation and inspires global collaboration.\n",
      "\n",
      "Artificial Intelligence Ethics\n",
      "As AI systems become more capable, ethical concerns arise about their usage, decision-making, and transparency. Issues like algorithmic bias, lack of accountability, and potential misuse in surveillance or warfare raise important moral questions. A multidisciplinary approach is required to ensure AI aligns with societal values.\n",
      "\n",
      "Globalization\n",
      "Globalization describes the process by which businesses, cultures, and technologies become integrated across borders. While it facilitates economic growth and cultural exchange, it also leads to labor exploitation, environmental damage, and loss of local traditions. Balancing its benefits and drawbacks is a major global challenge.\n",
      "\n",
      "Cryptocurrency\n",
      "Cryptocurrencies are decentralized digital assets that use blockchain technology for secure transactions. Bitcoin, Ethereum, and similar currencies promise financial autonomy and lower transaction fees but face issues like regulatory uncertainty, market volatility, and environmental concerns due to high energy consumption in mining.' metadata={'source': '../data/practical_rag_data/data1.txt'}\n"
     ]
    },
    {
     "name": "stderr",
     "output_type": "stream",
     "text": [
      "\n"
     ]
    }
   ],
   "source": [
    "# Loading Data\n",
    "\n",
    "directoryLoader = DirectoryLoader(\n",
    "    path=\"../data/practical_rag_data/\",\n",
    "    loader_cls=TextLoader,\n",
    "    show_progress=True,\n",
    "    glob=\"**/*.txt\"\n",
    ")\n",
    "\n",
    "data=directoryLoader.load()\n",
    "print(data[0])"
   ]
  },
  {
   "cell_type": "code",
   "execution_count": 13,
   "id": "b4ffdb8f",
   "metadata": {},
   "outputs": [
    {
     "name": "stdout",
     "output_type": "stream",
     "text": [
      "page_content='Climate Change\n",
      "Climate change refers to long-term shifts in temperatures and weather patterns, largely driven by human activities such as burning fossil fuels. These activities increase greenhouse gas concentrations in the atmosphere, trapping heat and altering global climates. Consequences include rising sea levels, extreme weather events, and biodiversity loss.' metadata={'source': '../data/practical_rag_data/data1.txt'} page_content='Space Exploration\n",
      "Humanity’s interest in space has evolved from simple stargazing to landing rovers on Mars. Organizations like NASA and private companies like SpaceX are pushing boundaries by exploring planets, planning moon bases, and even contemplating missions to Jupiter's moons. Space exploration drives technological innovation and inspires global collaboration.' metadata={'source': '../data/practical_rag_data/data1.txt'}\n"
     ]
    }
   ],
   "source": [
    "text_splitter=RecursiveCharacterTextSplitter(\n",
    "    separators=[\n",
    "        \"\\n\\n\",\n",
    "        \"\\n\",\n",
    "        \" \",\n",
    "        \".\",\n",
    "        \",\",\n",
    "        \"\\u200b\",  # Zero-width space\n",
    "        \"\\uff0c\",  # Fullwidth comma\n",
    "        \"\\u3001\",  # Ideographic comma\n",
    "        \"\\uff0e\",  # Fullwidth full stop\n",
    "        \"\\u3002\",  # Ideographic full stop\n",
    "        \"\",\n",
    "    ],\n",
    "    chunk_size=500,\n",
    "    chunk_overlap=100,\n",
    "    length_function=len,\n",
    "    is_separator_regex=False,   \n",
    ")\n",
    "\n",
    "chunks=text_splitter.split_documents(data)\n",
    "print(chunks[0],chunks[1])\n",
    "\n"
   ]
  },
  {
   "cell_type": "code",
   "execution_count": 62,
   "id": "ad24b03f",
   "metadata": {},
   "outputs": [],
   "source": [
    "model_name = \"sentence-transformers/all-MiniLM-L6-v2\"\n",
    "hf = HuggingFaceEmbeddings(\n",
    "    model_name=model_name,\n",
    ")\n",
    "# Creating Chroma DB\n",
    "\n",
    "db=Chroma.from_documents(\n",
    "    documents=chunks,\n",
    "    embedding=hf,\n",
    "    persist_directory=\"../rag_db\",\n",
    "    collection_name=\"rag_collection\"\n",
    ")\n",
    "\n",
    "retriever=db.as_retriever(\n",
    "    search_kwargs={\"k\":3}\n",
    ")\n"
   ]
  },
  {
   "cell_type": "code",
   "execution_count": 66,
   "id": "f34b2eb2",
   "metadata": {},
   "outputs": [],
   "source": [
    "from langchain_core.prompts import ChatPromptTemplate\n",
    "system_prompt=\"\"\"You are an assistant for question-answering tasks. \n",
    "Use the following pieces of retrieved context to answer the question. \n",
    "If you don't know the answer, just say that you don't know. \n",
    "Use three sentences maximum and keep the answer concise.\n",
    "\n",
    "Context: {context}\"\"\"\n",
    "\n",
    "prompt = ChatPromptTemplate.from_messages([\n",
    "    (\"system\", system_prompt),\n",
    "    (\"human\", \"{input}\")\n",
    "])"
   ]
  },
  {
   "cell_type": "code",
   "execution_count": null,
   "id": "fe49ca52",
   "metadata": {},
   "outputs": [
    {
     "data": {
      "text/plain": [
       "{'input': 'What does climate change refer to?',\n",
       " 'context': [Document(id='21536dd7-b392-4608-b4ad-9bdf9afada57', metadata={'source': '../data/practical_rag_data/data1.txt'}, page_content='Climate Change\\nClimate change refers to long-term shifts in temperatures and weather patterns, largely driven by human activities such as burning fossil fuels. These activities increase greenhouse gas concentrations in the atmosphere, trapping heat and altering global climates. Consequences include rising sea levels, extreme weather events, and biodiversity loss.'),\n",
       "  Document(id='eedf34f4-a99d-404f-8166-33a7f0337edf', metadata={'source': '../data/practical_rag_data/data1.txt'}, page_content='Climate Change\\nClimate change refers to long-term shifts in temperatures and weather patterns, largely driven by human activities such as burning fossil fuels. These activities increase greenhouse gas concentrations in the atmosphere, trapping heat and altering global climates. Consequences include rising sea levels, extreme weather events, and biodiversity loss.'),\n",
       "  Document(id='0ccf8d3b-1c21-4951-b8fb-26ec14870d8f', metadata={'source': '../data/practical_rag_data/data1.txt'}, page_content='Climate Change\\nClimate change refers to long-term shifts in temperatures and weather patterns, largely driven by human activities such as burning fossil fuels. These activities increase greenhouse gas concentrations in the atmosphere, trapping heat and altering global climates. Consequences include rising sea levels, extreme weather events, and biodiversity loss.')],\n",
       " 'answer': 'Climate change refers to long-term shifts in temperatures and weather patterns. It is largely driven by human activities such as burning fossil fuels, which increase greenhouse gas concentrations in the atmosphere. This process traps heat and alters global climates, leading to various consequences.'}"
      ]
     },
     "execution_count": 67,
     "metadata": {},
     "output_type": "execute_result"
    }
   ],
   "source": [
    "# Creating Chain\n",
    "from os import read\n",
    "\n",
    "\n",
    "llm=ChatGroq(\n",
    "    model_name=\"llama-3.3-70b-versatile\",\n",
    "    api_key=groq_api_key,\n",
    ")\n",
    "\n",
    "combined_chain=create_stuff_documents_chain(\n",
    "    llm=llm,\n",
    "    prompt=prompt\n",
    ")\n",
    "\n",
    "retrieval_chain=create_retrieval_chain(\n",
    "    retriever=retriever,\n",
    "    combine_docs_chain=combined_chain,\n",
    ")\n",
    "\n",
    "response=retrieval_chain.invoke({\"input\": \"What does climate change refer to?\"})\n",
    "\n",
    "response"
   ]
  },
  {
   "cell_type": "code",
   "execution_count": null,
   "id": "7a35babf",
   "metadata": {},
   "outputs": [],
   "source": []
  }
 ],
 "metadata": {
  "kernelspec": {
   "display_name": ".venv",
   "language": "python",
   "name": "python3"
  },
  "language_info": {
   "codemirror_mode": {
    "name": "ipython",
    "version": 3
   },
   "file_extension": ".py",
   "mimetype": "text/x-python",
   "name": "python",
   "nbconvert_exporter": "python",
   "pygments_lexer": "ipython3",
   "version": "3.9.6"
  }
 },
 "nbformat": 4,
 "nbformat_minor": 5
}
