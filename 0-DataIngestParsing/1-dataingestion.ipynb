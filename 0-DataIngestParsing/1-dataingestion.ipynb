{
 "cells": [
  {
   "cell_type": "markdown",
   "id": "25522666",
   "metadata": {},
   "source": [
    "## Understanding Document Structure In Langchain"
   ]
  },
  {
   "cell_type": "code",
   "execution_count": 3,
   "id": "ea5688b4",
   "metadata": {},
   "outputs": [],
   "source": [
    "from langchain_core.documents import Document"
   ]
  },
  {
   "cell_type": "code",
   "execution_count": 7,
   "id": "f1be3fe7",
   "metadata": {},
   "outputs": [
    {
     "name": "stdout",
     "output_type": "stream",
     "text": [
      "page_content='This is the place where actual data will be saved' metadata={'source': 'file.pdf', 'author': 'unknown', 'page': 1, 'custom_field': 'value'}\n",
      "{'source': 'file.pdf', 'author': 'unknown', 'page': 1, 'custom_field': 'value'}\n"
     ]
    }
   ],
   "source": [
    "\n",
    "doc=Document(\n",
    "    page_content=\"This is the place where actual data will be saved\",\n",
    "    metadata={\n",
    "        \"source\":\"file.pdf\",\n",
    "        \"author\":\"unknown\",\n",
    "        \"page\":1,\n",
    "        \"custom_field\":\"value\"\n",
    "    }\n",
    ")\n",
    "\n",
    "print(doc)\n",
    "print(doc.metadata)"
   ]
  },
  {
   "cell_type": "markdown",
   "id": "de8f5822",
   "metadata": {},
   "source": [
    "### TEXT LOADER AND DOCUMENT LOADER (SIMPLEST EXAMPLE)"
   ]
  },
  {
   "cell_type": "code",
   "execution_count": 10,
   "id": "032b21b8",
   "metadata": {},
   "outputs": [],
   "source": [
    "import os\n",
    "\n",
    "os.makedirs(\"../data/text_files\",exist_ok=True)\n",
    "\n",
    "# Adding Text \n",
    "\n",
    "text_data={\n",
    "    \"../data/text_files/python_intro.txt\":\"\"\"Python is a high-level, interpreted programming language known for its simplicity, readability, and versatility. Created by Guido van Rossum in the early 1990s, Python emphasizes clean and concise syntax, making it an ideal choice for beginners and professionals alike. Its extensive standard library and vast ecosystem of third-party packages allow developers to build applications in areas such as web development, data science, artificial intelligence, automation, and more. Python’s cross-platform nature and active community support have contributed to its rise as one of the most widely used languages in the world. Whether one is scripting simple tasks or developing complex systems, Python offers both ease of use and powerful capabilities.\"\"\",\n",
    "    \"../data/text_files/machine_learning_intro.txt\":\"\"\"Machine Learning (ML) is a branch of artificial intelligence that enables computers to learn patterns and make predictions or decisions without being explicitly programmed. Instead of following rigid rules, ML models are trained using data, gradually improving their performance through experience. This technology underpins many modern applications, from recommendation systems and fraud detection to self-driving cars and natural language processing. Machine learning techniques are broadly classified into supervised, unsupervised, and reinforcement learning, each addressing different types of problems. As the availability of data and computing power continues to grow, ML has become a driving force behind innovation across industries, shaping the way we interact with technology and the world around us.\"\"\"\n",
    "}\n",
    "\n",
    "\n",
    "for path,content in text_data.items():\n",
    "    with open(path, \"w\") as f:\n",
    "        f.write(content)"
   ]
  },
  {
   "cell_type": "code",
   "execution_count": 16,
   "id": "741c0fce",
   "metadata": {},
   "outputs": [
    {
     "name": "stdout",
     "output_type": "stream",
     "text": [
      "Metadata For Loaded Text {'source': '../data/text_files/python_intro.txt'}\n",
      "Content For Loaded Text Python is a high-level, interpreted programming language known for its simplicity, readability, and versatility. Created by Guido van Rossum in the early 1990s, Python emphasizes clean and concise syntax, making it an ideal choice for beginners and professionals alike. Its extensive standard library and vast ecosystem of third-party packages allow developers to build applications in areas such as web development, data science, artificial intelligence, automation, and more. Python’s cross-platform nature and active community support have contributed to its rise as one of the most widely used languages in the world. Whether one is scripting simple tasks or developing complex systems, Python offers both ease of use and powerful capabilities.\n"
     ]
    }
   ],
   "source": [
    "# Text Loader single file\n",
    "from langchain_community.document_loaders import TextLoader\n",
    "\n",
    "text_loader=TextLoader('../data/text_files/python_intro.txt',encoding='utf-8')\n",
    "loaded_text=text_loader.load()\n",
    "\n",
    "print(\"Metadata For Loaded Text\",loaded_text[0].metadata)\n",
    "print(\"Content For Loaded Text\",loaded_text[0].page_content)"
   ]
  },
  {
   "cell_type": "code",
   "execution_count": 19,
   "id": "f45453ca",
   "metadata": {},
   "outputs": [
    {
     "name": "stderr",
     "output_type": "stream",
     "text": [
      "100%|██████████| 2/2 [00:00<00:00, 2820.65it/s]"
     ]
    },
    {
     "name": "stdout",
     "output_type": "stream",
     "text": [
      " Loaded 2 documents\n",
      "Document 1\n",
      "Metadata: ../data/text_files/python_intro.txt\n",
      "Content: ython is a high-level, interpreted programming language known for its simplicity, readability, and \n",
      "Document 2\n",
      "Metadata: ../data/text_files/machine_learning_intro.txt\n",
      "Content: achine Learning (ML) is a branch of artificial intelligence that enables computers to learn pattern\n"
     ]
    },
    {
     "name": "stderr",
     "output_type": "stream",
     "text": [
      "\n"
     ]
    }
   ],
   "source": [
    "# Full Directory Loader\n",
    "from langchain_community.document_loaders import DirectoryLoader\n",
    "\n",
    "directory_loader=DirectoryLoader(\"../data/text_files\",\n",
    "        glob=\"**/*.txt\",\n",
    "        loader_cls=TextLoader,\n",
    "        loader_kwargs={'encoding':\"utf-8\"},\n",
    "        show_progress=True)\n",
    "\n",
    "documents=directory_loader.load()\n",
    "\n",
    "print(f\" Loaded {len(documents)} documents\")\n",
    "for i,doc in enumerate(documents):\n",
    "    print(f\"Document {i+1}\")\n",
    "    print(f\"Metadata: {doc.metadata['source']}\")\n",
    "    print(f\"Content: {doc.page_content[1:100]}\")"
   ]
  },
  {
   "cell_type": "markdown",
   "id": "48b40aaf",
   "metadata": {},
   "source": [
    "### TEXT SPLITTER EXAMPLES"
   ]
  },
  {
   "cell_type": "code",
   "execution_count": 3,
   "id": "08d34139",
   "metadata": {},
   "outputs": [],
   "source": [
    "from langchain_text_splitters import CharacterTextSplitter,RecursiveCharacterTextSplitter,TokenTextSplitter\n",
    "from langchain_community.document_loaders import TextLoader"
   ]
  },
  {
   "cell_type": "code",
   "execution_count": 7,
   "id": "42de7e57",
   "metadata": {},
   "outputs": [],
   "source": [
    "\n",
    "loader= TextLoader(\"../data/text_files/text_splitter_example.txt\",'utf-8')\n",
    "extracted_file=loader.load()\n",
    "\n",
    "extract_file_context=extracted_file[0].page_content"
   ]
  },
  {
   "cell_type": "code",
   "execution_count": 13,
   "id": "6f663add",
   "metadata": {},
   "outputs": [
    {
     "name": "stdout",
     "output_type": "stream",
     "text": [
      "125\n",
      "55\n"
     ]
    }
   ],
   "source": [
    "character_splitter=CharacterTextSplitter(separator=\" \",chunk_size=100,chunk_overlap=10)\n",
    "recursive_text_splitter=RecursiveCharacterTextSplitter(\n",
    "    separators=[\"\\n\\n\", \"\\n\", \" \", \"\"],\n",
    "    chunk_size=300,\n",
    "    chunk_overlap=20\n",
    ")\n",
    "splitted_text=character_splitter.split_text(extract_file_context)\n",
    "recursive_splitted_text=recursive_text_splitter.split_text(extract_file_context)\n",
    "\n",
    "print(len(splitted_text))\n",
    "print(len(recursive_splitted_text))"
   ]
  }
 ],
 "metadata": {
  "kernelspec": {
   "display_name": ".venv",
   "language": "python",
   "name": "python3"
  },
  "language_info": {
   "codemirror_mode": {
    "name": "ipython",
    "version": 3
   },
   "file_extension": ".py",
   "mimetype": "text/x-python",
   "name": "python",
   "nbconvert_exporter": "python",
   "pygments_lexer": "ipython3",
   "version": "3.9.6"
  }
 },
 "nbformat": 4,
 "nbformat_minor": 5
}
